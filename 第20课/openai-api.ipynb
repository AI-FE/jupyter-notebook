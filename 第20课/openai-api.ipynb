{
 "cells": [
  {
   "cell_type": "markdown",
   "metadata": {},
   "source": [
    "# OpenAI Api\n"
   ]
  },
  {
   "cell_type": "markdown",
   "metadata": {},
   "source": [
    "## 初始化\n"
   ]
  },
  {
   "cell_type": "markdown",
   "metadata": {},
   "source": [
    "### 初始化环境变量\n"
   ]
  },
  {
   "cell_type": "code",
   "execution_count": null,
   "metadata": {},
   "outputs": [],
   "source": [
    "import { config } from \"dotenv\";\n",
    "\n",
    "await config({ export: true });\n",
    "\n",
    "const apiKey = Deno.env.get(\"API_KEY\");\n",
    "const baseURL = Deno.env.get(\"BASE_URL\");\n",
    "const systemPrompt = Deno.env.get(\"SYSTEM_PROMPT\");\n"
   ]
  },
  {
   "cell_type": "markdown",
   "metadata": {},
   "source": [
    "### 初始化 ai 实例\n"
   ]
  },
  {
   "cell_type": "code",
   "execution_count": 2,
   "metadata": {},
   "outputs": [],
   "source": [
    "import OpenAI from \"openai\";\n",
    "const openai = new OpenAI({\n",
    "  apiKey,\n",
    "  baseURL,\n",
    "});\n"
   ]
  },
  {
   "cell_type": "markdown",
   "metadata": {},
   "source": [
    "## 调用 chat.completion 方法\n"
   ]
  },
  {
   "cell_type": "code",
   "execution_count": null,
   "metadata": {},
   "outputs": [],
   "source": [
    "const result = openai.chat.completions.create({\n",
    "  model: \"gpt-4o\",\n",
    "  stream: true,\n",
    "  temperature: 0.4,\n",
    "  messages: [\n",
    "    {\n",
    "      role: \"system\",\n",
    "      content: systemPrompt,\n",
    "    },\n",
    "    {\n",
    "      role: \"user\",\n",
    "      content: \"生成一个登陆界面\",\n",
    "    },\n",
    "  ],\n",
    "});\n",
    "\n",
    "let assistantContent = \"\";\n",
    "\n",
    "for await (const chunk of await result) {\n",
    "  console.log(chunk?.choices?.[0]?.delta?.content || \"\");\n",
    "  assistantContent += chunk?.choices?.[0]?.delta?.content || \"\";\n",
    "}\n",
    "\n",
    "console.log(assistantContent);\n"
   ]
  },
  {
   "cell_type": "markdown",
   "metadata": {},
   "source": [
    "## 调用 function calling\n"
   ]
  },
  {
   "cell_type": "code",
   "execution_count": null,
   "metadata": {},
   "outputs": [],
   "source": [
    "const result = openai.chat.completions.create({\n",
    "  model: \"gpt-4o\",\n",
    "  stream: true,\n",
    "  temperature: 0.4,\n",
    "  messages: [\n",
    "    {\n",
    "      role: \"system\",\n",
    "      content: \"提取出用户提供的代码中用到了哪些antd的基础组件\",\n",
    "    },\n",
    "    {\n",
    "      role: \"user\",\n",
    "      content: assistantContent,\n",
    "    },\n",
    "  ],\n",
    "  tools: [\n",
    "    {\n",
    "      type: \"function\",\n",
    "      function: {\n",
    "        name: `extract_antd_components`,\n",
    "        description: `提取出用户提供的代码中用到了哪些antd的基础组件`,\n",
    "        parameters: {\n",
    "          type: \"object\",\n",
    "          properties: {\n",
    "            components: {\n",
    "              type: \"array\",\n",
    "              items: {\n",
    "                type: \"string\",\n",
    "              },\n",
    "            },\n",
    "          },\n",
    "          required: [\"components\"],\n",
    "        },\n",
    "      },\n",
    "    },\n",
    "  ],\n",
    "});\n",
    "let functionCallingContent = \"\";\n",
    "for await (const chunk of await result) {\n",
    "  console.log(\n",
    "    chunk?.choices?.[0]?.delta?.tool_calls?.[0]?.function?.arguments || \"\"\n",
    "  );\n",
    "  functionCallingContent +=\n",
    "    chunk?.choices?.[0]?.delta?.tool_calls?.[0]?.function?.arguments || \"\";\n",
    "}\n",
    "\n",
    "console.log(functionCallingContent);\n"
   ]
  },
  {
   "cell_type": "markdown",
   "metadata": {},
   "source": [
    "## json_object 输出模式\n"
   ]
  },
  {
   "cell_type": "code",
   "execution_count": null,
   "metadata": {},
   "outputs": [],
   "source": [
    "const result = openai.chat.completions.create({\n",
    "  model: \"gpt-4o\",\n",
    "  stream: true,\n",
    "  temperature: 0.4,\n",
    "  messages: [\n",
    "    {\n",
    "      role: \"system\",\n",
    "      content: \"帮我提取出用户提供的代码中用到了哪些antd的基础组件，输出为json\",\n",
    "    },\n",
    "    {\n",
    "      role: \"user\",\n",
    "      content: assistantContent,\n",
    "    },\n",
    "  ],\n",
    "  response_format: {\n",
    "    type: \"json_object\",\n",
    "  },\n",
    "});\n",
    "\n",
    "let jsonObjectContent = \"\";\n",
    "\n",
    "for await (const chunk of await result) {\n",
    "  console.log(chunk?.choices?.[0]?.delta?.content || \"\");\n",
    "  jsonObjectContent += chunk?.choices?.[0]?.delta?.content || \"\";\n",
    "}\n",
    "\n",
    "console.log(jsonObjectContent);\n"
   ]
  },
  {
   "cell_type": "markdown",
   "metadata": {},
   "source": [
    "## Structured Outputs\n"
   ]
  },
  {
   "cell_type": "code",
   "execution_count": null,
   "metadata": {},
   "outputs": [],
   "source": [
    "import { zodResponseFormat } from \"openai/helpers/zod\";\n",
    "import { z } from \"zod\";\n",
    "\n",
    "const componentsResponseSchema = z.object({\n",
    "  components: z.array(z.string()),\n",
    "});\n",
    "\n",
    "\n",
    "const result = await openai.beta.chat.completions.parse({\n",
    "  model: \"gpt-4o\",\n",
    "  temperature: 0.4,\n",
    "  messages: [\n",
    "    {\n",
    "      role: \"system\",\n",
    "      content: \"帮我提取出用户提供的代码中用到了哪些antd的基础组件\",\n",
    "    },\n",
    "    {\n",
    "      role: \"user\",\n",
    "      content: assistantContent,\n",
    "    },\n",
    "  ],\n",
    "  response_format: zodResponseFormat(componentsResponseSchema, \"event\"),\n",
    "});\n",
    "\n",
    "const event = result.choices[0].message.parsed;\n",
    "\n",
    "console.log(event);\n"
   ]
  },
  {
   "cell_type": "markdown",
   "metadata": {},
   "source": [
    "> OpenAI 更多资料详见官方文档：https://platform.openai.com/docs/overview"
   ]
  }
 ],
 "metadata": {
  "kernelspec": {
   "display_name": "Deno",
   "language": "typescript",
   "name": "deno"
  },
  "language_info": {
   "codemirror_mode": "typescript",
   "file_extension": ".ts",
   "mimetype": "text/x.typescript",
   "name": "typescript",
   "nbconvert_exporter": "script",
   "pygments_lexer": "typescript",
   "version": "5.6.2"
  }
 },
 "nbformat": 4,
 "nbformat_minor": 2
}
