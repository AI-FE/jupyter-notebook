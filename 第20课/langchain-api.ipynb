{
 "cells": [
  {
   "cell_type": "markdown",
   "metadata": {},
   "source": [
    "# LangChain Api\n"
   ]
  },
  {
   "cell_type": "markdown",
   "metadata": {},
   "source": [
    "## 初始化\n"
   ]
  },
  {
   "cell_type": "markdown",
   "metadata": {},
   "source": [
    "## 初始化环境变量"
   ]
  },
  {
   "cell_type": "code",
   "execution_count": null,
   "metadata": {},
   "outputs": [],
   "source": [
    "import { config } from \"dotenv\";\n",
    "\n",
    "await config({ export: true });\n",
    "\n",
    "const apiKey = Deno.env.get(\"API_KEY\");\n",
    "const baseURL = Deno.env.get(\"BASE_URL\");\n",
    "const systemPrompt = Deno.env.get(\"SYSTEM_PROMPT\");\n"
   ]
  },
  {
   "cell_type": "markdown",
   "metadata": {},
   "source": [
    "## 初始化 ai 实例"
   ]
  },
  {
   "cell_type": "code",
   "execution_count": 39,
   "metadata": {},
   "outputs": [],
   "source": [
    "import { ChatOpenAI } from '@langchain/openai';\n",
    "\n",
    "// 创建 ChatOpenAI 实例\n",
    "const model = new ChatOpenAI({\n",
    "    openAIApiKey: apiKey,\n",
    "    configuration: {\n",
    "      baseURL: baseURL,\n",
    "    },\n",
    "    modelName: \"gpt-4o\",\n",
    "    temperature: 0.4,\n",
    "    streaming: true\n",
    "  });"
   ]
  },
  {
   "cell_type": "markdown",
   "metadata": {},
   "source": [
    "## 通过LangChain 调用 AI Api\n"
   ]
  },
  {
   "cell_type": "code",
   "execution_count": null,
   "metadata": {},
   "outputs": [],
   "source": [
    "import {  HumanMessage, SystemMessage } from '@langchain/core/messages';\n",
    "import { ChatPromptTemplate } from '@langchain/core/prompts';\n",
    "import { StringOutputParser } from '@langchain/core/output_parsers';\n",
    "import { RunnableSequence } from '@langchain/core/runnables';\n",
    "\n",
    "// 创建消息模板\n",
    "const prompt = ChatPromptTemplate.fromMessages([\n",
    "  new SystemMessage(systemPrompt),\n",
    "  new HumanMessage(\"生成一个登陆界面\")\n",
    "]);\n",
    "\n",
    "// LCEL 处理链写法1: pipe 写法\n",
    "// const chain = prompt.pipe(model).pipe(new StringOutputParser());\n",
    "\n",
    "// LCEL 处理链写法2: RunnableSequence\n",
    "const chain = RunnableSequence.from([prompt, model, new StringOutputParser()]);\n",
    "\n",
    "// 执行流式输出\n",
    "const stream = await chain.stream();\n",
    "\n",
    "let assistantContent = \"\";\n",
    "\n",
    "// 处理流式响应\n",
    "for await (const chunk of stream) {\n",
    "  console.log(chunk);\n",
    "  assistantContent += chunk;\n",
    "}\n",
    "\n",
    "console.log(assistantContent);"
   ]
  },
  {
   "cell_type": "markdown",
   "metadata": {},
   "source": [
    "## 结构化输出\n",
    "\n"
   ]
  },
  {
   "cell_type": "code",
   "execution_count": null,
   "metadata": {},
   "outputs": [],
   "source": [
    "import { StructuredOutputParser } from '@langchain/core/output_parsers';\n",
    "import { ChatPromptTemplate } from '@langchain/core/prompts';\n",
    "import { RunnableSequence } from '@langchain/core/runnables';\n",
    "import { z } from 'zod';\n",
    "\n",
    "const componentsResponseSchema = z.object({\n",
    "  components: z.array(z.string()).describe(\"antd 组件列表\")\n",
    "});\n",
    "\n",
    "const structuredOutputParser = StructuredOutputParser.fromZodSchema(componentsResponseSchema);\n",
    "\n",
    "console.log(structuredOutputParser.getFormatInstructions());\n",
    "\n",
    "const structurePrompt = ChatPromptTemplate.fromMessages([\n",
    "  new SystemMessage(`提取出用户提供的代码中用到了哪些antd的基础组件 ${structuredOutputParser.getFormatInstructions()}`),\n",
    "  new HumanMessage(assistantContent),\n",
    "]);\n",
    "\n",
    "const structureChain = RunnableSequence.from([structurePrompt, model, structuredOutputParser]);\n",
    "\n",
    "const result = await structureChain.stream();\n",
    "\n",
    "let components = \"\";\n",
    "for await (const chunk of result) {\n",
    "  console.log(chunk);\n",
    "  components += chunk;\n",
    "}\n",
    "\n",
    "console.log(JSON.stringify(components));\n"
   ]
  },
  {
   "cell_type": "markdown",
   "metadata": {},
   "source": [
    "> Langchain 更多资料详见官方文档：https://js.langchain.com/docs/tutorials/"
   ]
  }
 ],
 "metadata": {
  "kernelspec": {
   "display_name": "Deno",
   "language": "typescript",
   "name": "deno"
  },
  "language_info": {
   "codemirror_mode": "typescript",
   "file_extension": ".ts",
   "mimetype": "text/x.typescript",
   "name": "typescript",
   "nbconvert_exporter": "script",
   "pygments_lexer": "typescript",
   "version": "5.6.2"
  }
 },
 "nbformat": 4,
 "nbformat_minor": 2
}
