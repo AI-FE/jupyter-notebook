{
 "cells": [
  {
   "cell_type": "markdown",
   "metadata": {},
   "source": [
    "# Vercel AI SDK Api\n"
   ]
  },
  {
   "cell_type": "markdown",
   "metadata": {},
   "source": [
    "## 初始化\n"
   ]
  },
  {
   "cell_type": "markdown",
   "metadata": {},
   "source": [
    "## 初始化环境变量"
   ]
  },
  {
   "cell_type": "code",
   "execution_count": null,
   "metadata": {},
   "outputs": [],
   "source": [
    "import { config } from \"dotenv\";\n",
    "\n",
    "await config({ export: true });\n",
    "\n",
    "const apiKey = Deno.env.get(\"API_KEY\");\n",
    "const baseURL = Deno.env.get(\"BASE_URL\");\n",
    "const systemPrompt = Deno.env.get(\"SYSTEM_PROMPT\");\n"
   ]
  },
  {
   "cell_type": "markdown",
   "metadata": {},
   "source": [
    "## 初始化 ai 实例"
   ]
  },
  {
   "cell_type": "code",
   "execution_count": 23,
   "metadata": {},
   "outputs": [],
   "source": [
    "import { createOpenAI } from '@ai-sdk/openai';\n",
    "\n",
    "// 创建 OpenAI 实例\n",
    "export const model = createOpenAI({\n",
    "  baseURL: baseURL,\n",
    "  apiKey: apiKey\n",
    "})(\"gpt-4o\");\n"
   ]
  },
  {
   "cell_type": "markdown",
   "metadata": {},
   "source": [
    "## 通过 vercel ai sdk 调用 AI Api\n"
   ]
  },
  {
   "cell_type": "code",
   "execution_count": null,
   "metadata": {},
   "outputs": [],
   "source": [
    "import { streamText } from \"ai\";\n",
    "\n",
    "const result = streamText({\n",
    "  model: model,\n",
    "  system: systemPrompt,\n",
    "  temperature: 0.4,\n",
    "  messages: [\n",
    "    {\n",
    "      role: \"user\",\n",
    "      content: \"生成一个登陆界面\"\n",
    "    }\n",
    "  ],\n",
    "});\n",
    "\n",
    "let assistantContent = \"\";\n",
    "for await (const chunk of result.textStream) {\n",
    "  console.log(chunk);\n",
    "  assistantContent += chunk;\n",
    "}\n",
    "console.log(assistantContent);\n"
   ]
  },
  {
   "cell_type": "markdown",
   "metadata": {},
   "source": [
    "## 结构化输出\n",
    "\n"
   ]
  },
  {
   "cell_type": "code",
   "execution_count": null,
   "metadata": {},
   "outputs": [],
   "source": [
    "import { streamObject } from \"ai\";\n",
    "import { z } from \"zod\";\n",
    "\n",
    "const componentsSchema = z.object({\n",
    "  components: z.array(z.string()).describe(\"antd 组件列表\")\n",
    "});\n",
    "\n",
    "const result = streamObject({\n",
    "  model: model,\n",
    "  schema: componentsSchema,\n",
    "  system: \"提取出用户提供的代码中用到了哪些antd的基础组件\",\n",
    "  prompt: assistantContent,\n",
    "});\n",
    "\n",
    "// 使用 partialObjectStream 来获取流式的部分结果\n",
    "console.log(\"Streaming partial results:\");\n",
    "for await (const partial of result.partialObjectStream) {\n",
    "  console.log(partial);\n",
    "}\n",
    "\n",
    "// 获取最终完整的结果\n",
    "const finalResult = await result.object;\n",
    "console.log(\"\\nFinal result:\", JSON.stringify(finalResult, null, 2));"
   ]
  },
  {
   "cell_type": "markdown",
   "metadata": {},
   "source": [
    "> Langchain 更多资料详见官方文档：https://js.langchain.com/docs/tutorials/"
   ]
  },
  {
   "cell_type": "markdown",
   "metadata": {},
   "source": [
    "## 前端通过 hooks 快速集成 AI 能力\n"
   ]
  },
  {
   "cell_type": "markdown",
   "metadata": {},
   "source": [
    "详见：https://sdk.vercel.ai/docs/ai-sdk-ui/chatbot"
   ]
  },
  {
   "cell_type": "markdown",
   "metadata": {},
   "source": [
    "> Vercel AI SDK 更多资料详见官方文档：https://sdk.vercel.ai/docs/introduction#why-use-the-ai-sdk\n"
   ]
  }
 ],
 "metadata": {
  "kernelspec": {
   "display_name": "Deno",
   "language": "typescript",
   "name": "deno"
  },
  "language_info": {
   "codemirror_mode": "typescript",
   "file_extension": ".ts",
   "mimetype": "text/x.typescript",
   "name": "typescript",
   "nbconvert_exporter": "script",
   "pygments_lexer": "typescript",
   "version": "5.6.2"
  }
 },
 "nbformat": 4,
 "nbformat_minor": 2
}
